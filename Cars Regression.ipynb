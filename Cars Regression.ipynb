{
 "cells": [
  {
   "cell_type": "markdown",
   "metadata": {},
   "source": [
    "# Regression"
   ]
  },
  {
   "cell_type": "code",
   "execution_count": 1,
   "metadata": {},
   "outputs": [],
   "source": [
    "import pandas as pd"
   ]
  },
  {
   "cell_type": "code",
   "execution_count": 2,
   "metadata": {},
   "outputs": [],
   "source": [
    "df = pd.read_excel('cars.xls')"
   ]
  },
  {
   "cell_type": "markdown",
   "metadata": {},
   "source": [
    "##### EDA - Exploratory Data Analysis"
   ]
  },
  {
   "cell_type": "code",
   "execution_count": 3,
   "metadata": {},
   "outputs": [
    {
     "data": {
      "text/html": [
       "<div>\n",
       "<style scoped>\n",
       "    .dataframe tbody tr th:only-of-type {\n",
       "        vertical-align: middle;\n",
       "    }\n",
       "\n",
       "    .dataframe tbody tr th {\n",
       "        vertical-align: top;\n",
       "    }\n",
       "\n",
       "    .dataframe thead th {\n",
       "        text-align: right;\n",
       "    }\n",
       "</style>\n",
       "<table border=\"1\" class=\"dataframe\">\n",
       "  <thead>\n",
       "    <tr style=\"text-align: right;\">\n",
       "      <th></th>\n",
       "      <th>Price</th>\n",
       "      <th>Mileage</th>\n",
       "      <th>Make</th>\n",
       "      <th>Model</th>\n",
       "      <th>Trim</th>\n",
       "      <th>Type</th>\n",
       "      <th>Cylinder</th>\n",
       "      <th>Liter</th>\n",
       "      <th>Doors</th>\n",
       "      <th>Cruise</th>\n",
       "      <th>Sound</th>\n",
       "      <th>Leather</th>\n",
       "    </tr>\n",
       "  </thead>\n",
       "  <tbody>\n",
       "    <tr>\n",
       "      <th>0</th>\n",
       "      <td>17314.103129</td>\n",
       "      <td>8221</td>\n",
       "      <td>Buick</td>\n",
       "      <td>Century</td>\n",
       "      <td>Sedan 4D</td>\n",
       "      <td>Sedan</td>\n",
       "      <td>6</td>\n",
       "      <td>3.1</td>\n",
       "      <td>4</td>\n",
       "      <td>1</td>\n",
       "      <td>1</td>\n",
       "      <td>1</td>\n",
       "    </tr>\n",
       "    <tr>\n",
       "      <th>1</th>\n",
       "      <td>17542.036083</td>\n",
       "      <td>9135</td>\n",
       "      <td>Buick</td>\n",
       "      <td>Century</td>\n",
       "      <td>Sedan 4D</td>\n",
       "      <td>Sedan</td>\n",
       "      <td>6</td>\n",
       "      <td>3.1</td>\n",
       "      <td>4</td>\n",
       "      <td>1</td>\n",
       "      <td>1</td>\n",
       "      <td>0</td>\n",
       "    </tr>\n",
       "    <tr>\n",
       "      <th>2</th>\n",
       "      <td>16218.847862</td>\n",
       "      <td>13196</td>\n",
       "      <td>Buick</td>\n",
       "      <td>Century</td>\n",
       "      <td>Sedan 4D</td>\n",
       "      <td>Sedan</td>\n",
       "      <td>6</td>\n",
       "      <td>3.1</td>\n",
       "      <td>4</td>\n",
       "      <td>1</td>\n",
       "      <td>1</td>\n",
       "      <td>0</td>\n",
       "    </tr>\n",
       "    <tr>\n",
       "      <th>3</th>\n",
       "      <td>16336.913140</td>\n",
       "      <td>16342</td>\n",
       "      <td>Buick</td>\n",
       "      <td>Century</td>\n",
       "      <td>Sedan 4D</td>\n",
       "      <td>Sedan</td>\n",
       "      <td>6</td>\n",
       "      <td>3.1</td>\n",
       "      <td>4</td>\n",
       "      <td>1</td>\n",
       "      <td>0</td>\n",
       "      <td>0</td>\n",
       "    </tr>\n",
       "    <tr>\n",
       "      <th>4</th>\n",
       "      <td>16339.170324</td>\n",
       "      <td>19832</td>\n",
       "      <td>Buick</td>\n",
       "      <td>Century</td>\n",
       "      <td>Sedan 4D</td>\n",
       "      <td>Sedan</td>\n",
       "      <td>6</td>\n",
       "      <td>3.1</td>\n",
       "      <td>4</td>\n",
       "      <td>1</td>\n",
       "      <td>0</td>\n",
       "      <td>1</td>\n",
       "    </tr>\n",
       "  </tbody>\n",
       "</table>\n",
       "</div>"
      ],
      "text/plain": [
       "          Price  Mileage   Make    Model      Trim   Type  Cylinder  Liter  \\\n",
       "0  17314.103129     8221  Buick  Century  Sedan 4D  Sedan         6    3.1   \n",
       "1  17542.036083     9135  Buick  Century  Sedan 4D  Sedan         6    3.1   \n",
       "2  16218.847862    13196  Buick  Century  Sedan 4D  Sedan         6    3.1   \n",
       "3  16336.913140    16342  Buick  Century  Sedan 4D  Sedan         6    3.1   \n",
       "4  16339.170324    19832  Buick  Century  Sedan 4D  Sedan         6    3.1   \n",
       "\n",
       "   Doors  Cruise  Sound  Leather  \n",
       "0      4       1      1        1  \n",
       "1      4       1      1        0  \n",
       "2      4       1      1        0  \n",
       "3      4       1      0        0  \n",
       "4      4       1      0        1  "
      ]
     },
     "execution_count": 3,
     "metadata": {},
     "output_type": "execute_result"
    }
   ],
   "source": [
    "df.head()"
   ]
  },
  {
   "cell_type": "code",
   "execution_count": 4,
   "metadata": {},
   "outputs": [
    {
     "data": {
      "text/plain": [
       "Price       0\n",
       "Mileage     0\n",
       "Make        0\n",
       "Model       0\n",
       "Trim        0\n",
       "Type        0\n",
       "Cylinder    0\n",
       "Liter       0\n",
       "Doors       0\n",
       "Cruise      0\n",
       "Sound       0\n",
       "Leather     0\n",
       "dtype: int64"
      ]
     },
     "execution_count": 4,
     "metadata": {},
     "output_type": "execute_result"
    }
   ],
   "source": [
    "df.isnull().sum()"
   ]
  },
  {
   "cell_type": "code",
   "execution_count": 5,
   "metadata": {},
   "outputs": [
    {
     "data": {
      "text/html": [
       "<div>\n",
       "<style scoped>\n",
       "    .dataframe tbody tr th:only-of-type {\n",
       "        vertical-align: middle;\n",
       "    }\n",
       "\n",
       "    .dataframe tbody tr th {\n",
       "        vertical-align: top;\n",
       "    }\n",
       "\n",
       "    .dataframe thead th {\n",
       "        text-align: right;\n",
       "    }\n",
       "</style>\n",
       "<table border=\"1\" class=\"dataframe\">\n",
       "  <thead>\n",
       "    <tr style=\"text-align: right;\">\n",
       "      <th></th>\n",
       "      <th>Price</th>\n",
       "      <th>Mileage</th>\n",
       "      <th>Make</th>\n",
       "      <th>Model</th>\n",
       "      <th>Trim</th>\n",
       "      <th>Type</th>\n",
       "      <th>Cylinder</th>\n",
       "      <th>Liter</th>\n",
       "      <th>Doors</th>\n",
       "      <th>Cruise</th>\n",
       "      <th>Sound</th>\n",
       "      <th>Leather</th>\n",
       "    </tr>\n",
       "  </thead>\n",
       "  <tbody>\n",
       "    <tr>\n",
       "      <th>799</th>\n",
       "      <td>16507.070267</td>\n",
       "      <td>16229</td>\n",
       "      <td>Saturn</td>\n",
       "      <td>L Series</td>\n",
       "      <td>L300 Sedan 4D</td>\n",
       "      <td>Sedan</td>\n",
       "      <td>6</td>\n",
       "      <td>3.0</td>\n",
       "      <td>4</td>\n",
       "      <td>1</td>\n",
       "      <td>0</td>\n",
       "      <td>0</td>\n",
       "    </tr>\n",
       "    <tr>\n",
       "      <th>800</th>\n",
       "      <td>16175.957604</td>\n",
       "      <td>19095</td>\n",
       "      <td>Saturn</td>\n",
       "      <td>L Series</td>\n",
       "      <td>L300 Sedan 4D</td>\n",
       "      <td>Sedan</td>\n",
       "      <td>6</td>\n",
       "      <td>3.0</td>\n",
       "      <td>4</td>\n",
       "      <td>1</td>\n",
       "      <td>1</td>\n",
       "      <td>0</td>\n",
       "    </tr>\n",
       "    <tr>\n",
       "      <th>801</th>\n",
       "      <td>15731.132897</td>\n",
       "      <td>20484</td>\n",
       "      <td>Saturn</td>\n",
       "      <td>L Series</td>\n",
       "      <td>L300 Sedan 4D</td>\n",
       "      <td>Sedan</td>\n",
       "      <td>6</td>\n",
       "      <td>3.0</td>\n",
       "      <td>4</td>\n",
       "      <td>1</td>\n",
       "      <td>1</td>\n",
       "      <td>0</td>\n",
       "    </tr>\n",
       "    <tr>\n",
       "      <th>802</th>\n",
       "      <td>15118.893228</td>\n",
       "      <td>25979</td>\n",
       "      <td>Saturn</td>\n",
       "      <td>L Series</td>\n",
       "      <td>L300 Sedan 4D</td>\n",
       "      <td>Sedan</td>\n",
       "      <td>6</td>\n",
       "      <td>3.0</td>\n",
       "      <td>4</td>\n",
       "      <td>1</td>\n",
       "      <td>1</td>\n",
       "      <td>0</td>\n",
       "    </tr>\n",
       "    <tr>\n",
       "      <th>803</th>\n",
       "      <td>13585.636802</td>\n",
       "      <td>35662</td>\n",
       "      <td>Saturn</td>\n",
       "      <td>L Series</td>\n",
       "      <td>L300 Sedan 4D</td>\n",
       "      <td>Sedan</td>\n",
       "      <td>6</td>\n",
       "      <td>3.0</td>\n",
       "      <td>4</td>\n",
       "      <td>1</td>\n",
       "      <td>0</td>\n",
       "      <td>0</td>\n",
       "    </tr>\n",
       "  </tbody>\n",
       "</table>\n",
       "</div>"
      ],
      "text/plain": [
       "            Price  Mileage    Make     Model           Trim   Type  Cylinder  \\\n",
       "799  16507.070267    16229  Saturn  L Series  L300 Sedan 4D  Sedan         6   \n",
       "800  16175.957604    19095  Saturn  L Series  L300 Sedan 4D  Sedan         6   \n",
       "801  15731.132897    20484  Saturn  L Series  L300 Sedan 4D  Sedan         6   \n",
       "802  15118.893228    25979  Saturn  L Series  L300 Sedan 4D  Sedan         6   \n",
       "803  13585.636802    35662  Saturn  L Series  L300 Sedan 4D  Sedan         6   \n",
       "\n",
       "     Liter  Doors  Cruise  Sound  Leather  \n",
       "799    3.0      4       1      0        0  \n",
       "800    3.0      4       1      1        0  \n",
       "801    3.0      4       1      1        0  \n",
       "802    3.0      4       1      1        0  \n",
       "803    3.0      4       1      0        0  "
      ]
     },
     "execution_count": 5,
     "metadata": {},
     "output_type": "execute_result"
    }
   ],
   "source": [
    "df.tail()"
   ]
  },
  {
   "cell_type": "code",
   "execution_count": 6,
   "metadata": {},
   "outputs": [
    {
     "data": {
      "text/html": [
       "<div>\n",
       "<style scoped>\n",
       "    .dataframe tbody tr th:only-of-type {\n",
       "        vertical-align: middle;\n",
       "    }\n",
       "\n",
       "    .dataframe tbody tr th {\n",
       "        vertical-align: top;\n",
       "    }\n",
       "\n",
       "    .dataframe thead th {\n",
       "        text-align: right;\n",
       "    }\n",
       "</style>\n",
       "<table border=\"1\" class=\"dataframe\">\n",
       "  <thead>\n",
       "    <tr style=\"text-align: right;\">\n",
       "      <th></th>\n",
       "      <th>Price</th>\n",
       "      <th>Mileage</th>\n",
       "      <th>Cylinder</th>\n",
       "      <th>Liter</th>\n",
       "      <th>Doors</th>\n",
       "      <th>Cruise</th>\n",
       "      <th>Sound</th>\n",
       "      <th>Leather</th>\n",
       "    </tr>\n",
       "  </thead>\n",
       "  <tbody>\n",
       "    <tr>\n",
       "      <th>count</th>\n",
       "      <td>804.000000</td>\n",
       "      <td>804.000000</td>\n",
       "      <td>804.000000</td>\n",
       "      <td>804.000000</td>\n",
       "      <td>804.000000</td>\n",
       "      <td>804.000000</td>\n",
       "      <td>804.000000</td>\n",
       "      <td>804.000000</td>\n",
       "    </tr>\n",
       "    <tr>\n",
       "      <th>mean</th>\n",
       "      <td>21343.143767</td>\n",
       "      <td>19831.934080</td>\n",
       "      <td>5.268657</td>\n",
       "      <td>3.037313</td>\n",
       "      <td>3.527363</td>\n",
       "      <td>0.752488</td>\n",
       "      <td>0.679104</td>\n",
       "      <td>0.723881</td>\n",
       "    </tr>\n",
       "    <tr>\n",
       "      <th>std</th>\n",
       "      <td>9884.852801</td>\n",
       "      <td>8196.319707</td>\n",
       "      <td>1.387531</td>\n",
       "      <td>1.105562</td>\n",
       "      <td>0.850169</td>\n",
       "      <td>0.431836</td>\n",
       "      <td>0.467111</td>\n",
       "      <td>0.447355</td>\n",
       "    </tr>\n",
       "    <tr>\n",
       "      <th>min</th>\n",
       "      <td>8638.930895</td>\n",
       "      <td>266.000000</td>\n",
       "      <td>4.000000</td>\n",
       "      <td>1.600000</td>\n",
       "      <td>2.000000</td>\n",
       "      <td>0.000000</td>\n",
       "      <td>0.000000</td>\n",
       "      <td>0.000000</td>\n",
       "    </tr>\n",
       "    <tr>\n",
       "      <th>25%</th>\n",
       "      <td>14273.073870</td>\n",
       "      <td>14623.500000</td>\n",
       "      <td>4.000000</td>\n",
       "      <td>2.200000</td>\n",
       "      <td>4.000000</td>\n",
       "      <td>1.000000</td>\n",
       "      <td>0.000000</td>\n",
       "      <td>0.000000</td>\n",
       "    </tr>\n",
       "    <tr>\n",
       "      <th>50%</th>\n",
       "      <td>18024.995019</td>\n",
       "      <td>20913.500000</td>\n",
       "      <td>6.000000</td>\n",
       "      <td>2.800000</td>\n",
       "      <td>4.000000</td>\n",
       "      <td>1.000000</td>\n",
       "      <td>1.000000</td>\n",
       "      <td>1.000000</td>\n",
       "    </tr>\n",
       "    <tr>\n",
       "      <th>75%</th>\n",
       "      <td>26717.316636</td>\n",
       "      <td>25213.000000</td>\n",
       "      <td>6.000000</td>\n",
       "      <td>3.800000</td>\n",
       "      <td>4.000000</td>\n",
       "      <td>1.000000</td>\n",
       "      <td>1.000000</td>\n",
       "      <td>1.000000</td>\n",
       "    </tr>\n",
       "    <tr>\n",
       "      <th>max</th>\n",
       "      <td>70755.466717</td>\n",
       "      <td>50387.000000</td>\n",
       "      <td>8.000000</td>\n",
       "      <td>6.000000</td>\n",
       "      <td>4.000000</td>\n",
       "      <td>1.000000</td>\n",
       "      <td>1.000000</td>\n",
       "      <td>1.000000</td>\n",
       "    </tr>\n",
       "  </tbody>\n",
       "</table>\n",
       "</div>"
      ],
      "text/plain": [
       "              Price       Mileage    Cylinder       Liter       Doors  \\\n",
       "count    804.000000    804.000000  804.000000  804.000000  804.000000   \n",
       "mean   21343.143767  19831.934080    5.268657    3.037313    3.527363   \n",
       "std     9884.852801   8196.319707    1.387531    1.105562    0.850169   \n",
       "min     8638.930895    266.000000    4.000000    1.600000    2.000000   \n",
       "25%    14273.073870  14623.500000    4.000000    2.200000    4.000000   \n",
       "50%    18024.995019  20913.500000    6.000000    2.800000    4.000000   \n",
       "75%    26717.316636  25213.000000    6.000000    3.800000    4.000000   \n",
       "max    70755.466717  50387.000000    8.000000    6.000000    4.000000   \n",
       "\n",
       "           Cruise       Sound     Leather  \n",
       "count  804.000000  804.000000  804.000000  \n",
       "mean     0.752488    0.679104    0.723881  \n",
       "std      0.431836    0.467111    0.447355  \n",
       "min      0.000000    0.000000    0.000000  \n",
       "25%      1.000000    0.000000    0.000000  \n",
       "50%      1.000000    1.000000    1.000000  \n",
       "75%      1.000000    1.000000    1.000000  \n",
       "max      1.000000    1.000000    1.000000  "
      ]
     },
     "execution_count": 6,
     "metadata": {},
     "output_type": "execute_result"
    }
   ],
   "source": [
    "df.describe()#sütunların  istatistik bilgisi"
   ]
  },
  {
   "cell_type": "code",
   "execution_count": 7,
   "metadata": {},
   "outputs": [
    {
     "name": "stdout",
     "output_type": "stream",
     "text": [
      "<class 'pandas.core.frame.DataFrame'>\n",
      "RangeIndex: 804 entries, 0 to 803\n",
      "Data columns (total 12 columns):\n",
      " #   Column    Non-Null Count  Dtype  \n",
      "---  ------    --------------  -----  \n",
      " 0   Price     804 non-null    float64\n",
      " 1   Mileage   804 non-null    int64  \n",
      " 2   Make      804 non-null    object \n",
      " 3   Model     804 non-null    object \n",
      " 4   Trim      804 non-null    object \n",
      " 5   Type      804 non-null    object \n",
      " 6   Cylinder  804 non-null    int64  \n",
      " 7   Liter     804 non-null    float64\n",
      " 8   Doors     804 non-null    int64  \n",
      " 9   Cruise    804 non-null    int64  \n",
      " 10  Sound     804 non-null    int64  \n",
      " 11  Leather   804 non-null    int64  \n",
      "dtypes: float64(2), int64(6), object(4)\n",
      "memory usage: 75.5+ KB\n"
     ]
    }
   ],
   "source": [
    "df.info()#sütunların isimleri ,veri tipleri dolu kayıt sayısı ve satır sütun sayısı"
   ]
  },
  {
   "cell_type": "code",
   "execution_count": 8,
   "metadata": {},
   "outputs": [
    {
     "data": {
      "text/plain": [
       "(804, 12)"
      ]
     },
     "execution_count": 8,
     "metadata": {},
     "output_type": "execute_result"
    }
   ],
   "source": [
    "df.shape#kaç satır kaç stün"
   ]
  },
  {
   "cell_type": "code",
   "execution_count": 9,
   "metadata": {},
   "outputs": [
    {
     "data": {
      "text/plain": [
       "array(['Buick', 'Cadillac', 'Chevrolet', 'Pontiac', 'SAAB', 'Saturn'],\n",
       "      dtype=object)"
      ]
     },
     "execution_count": 9,
     "metadata": {},
     "output_type": "execute_result"
    }
   ],
   "source": [
    "df['Make'].unique()# tekil markalar"
   ]
  },
  {
   "cell_type": "code",
   "execution_count": 10,
   "metadata": {},
   "outputs": [
    {
     "data": {
      "text/plain": [
       "6"
      ]
     },
     "execution_count": 10,
     "metadata": {},
     "output_type": "execute_result"
    }
   ],
   "source": [
    "df['Make'].nunique()#number of unique"
   ]
  },
  {
   "cell_type": "code",
   "execution_count": 11,
   "metadata": {},
   "outputs": [
    {
     "data": {
      "text/html": [
       "<div>\n",
       "<style scoped>\n",
       "    .dataframe tbody tr th:only-of-type {\n",
       "        vertical-align: middle;\n",
       "    }\n",
       "\n",
       "    .dataframe tbody tr th {\n",
       "        vertical-align: top;\n",
       "    }\n",
       "\n",
       "    .dataframe thead th {\n",
       "        text-align: right;\n",
       "    }\n",
       "</style>\n",
       "<table border=\"1\" class=\"dataframe\">\n",
       "  <thead>\n",
       "    <tr style=\"text-align: right;\">\n",
       "      <th></th>\n",
       "      <th>Price</th>\n",
       "      <th>Mileage</th>\n",
       "      <th>Make</th>\n",
       "      <th>Model</th>\n",
       "      <th>Trim</th>\n",
       "      <th>Type</th>\n",
       "      <th>Cylinder</th>\n",
       "      <th>Liter</th>\n",
       "      <th>Doors</th>\n",
       "      <th>Cruise</th>\n",
       "      <th>Sound</th>\n",
       "      <th>Leather</th>\n",
       "    </tr>\n",
       "  </thead>\n",
       "  <tbody>\n",
       "    <tr>\n",
       "      <th>0</th>\n",
       "      <td>17314.103129</td>\n",
       "      <td>8221</td>\n",
       "      <td>Buick</td>\n",
       "      <td>Century</td>\n",
       "      <td>Sedan 4D</td>\n",
       "      <td>Sedan</td>\n",
       "      <td>6</td>\n",
       "      <td>3.1</td>\n",
       "      <td>4</td>\n",
       "      <td>1</td>\n",
       "      <td>1</td>\n",
       "      <td>1</td>\n",
       "    </tr>\n",
       "    <tr>\n",
       "      <th>1</th>\n",
       "      <td>17542.036083</td>\n",
       "      <td>9135</td>\n",
       "      <td>Buick</td>\n",
       "      <td>Century</td>\n",
       "      <td>Sedan 4D</td>\n",
       "      <td>Sedan</td>\n",
       "      <td>6</td>\n",
       "      <td>3.1</td>\n",
       "      <td>4</td>\n",
       "      <td>1</td>\n",
       "      <td>1</td>\n",
       "      <td>0</td>\n",
       "    </tr>\n",
       "    <tr>\n",
       "      <th>2</th>\n",
       "      <td>16218.847862</td>\n",
       "      <td>13196</td>\n",
       "      <td>Buick</td>\n",
       "      <td>Century</td>\n",
       "      <td>Sedan 4D</td>\n",
       "      <td>Sedan</td>\n",
       "      <td>6</td>\n",
       "      <td>3.1</td>\n",
       "      <td>4</td>\n",
       "      <td>1</td>\n",
       "      <td>1</td>\n",
       "      <td>0</td>\n",
       "    </tr>\n",
       "    <tr>\n",
       "      <th>3</th>\n",
       "      <td>16336.913140</td>\n",
       "      <td>16342</td>\n",
       "      <td>Buick</td>\n",
       "      <td>Century</td>\n",
       "      <td>Sedan 4D</td>\n",
       "      <td>Sedan</td>\n",
       "      <td>6</td>\n",
       "      <td>3.1</td>\n",
       "      <td>4</td>\n",
       "      <td>1</td>\n",
       "      <td>0</td>\n",
       "      <td>0</td>\n",
       "    </tr>\n",
       "    <tr>\n",
       "      <th>4</th>\n",
       "      <td>16339.170324</td>\n",
       "      <td>19832</td>\n",
       "      <td>Buick</td>\n",
       "      <td>Century</td>\n",
       "      <td>Sedan 4D</td>\n",
       "      <td>Sedan</td>\n",
       "      <td>6</td>\n",
       "      <td>3.1</td>\n",
       "      <td>4</td>\n",
       "      <td>1</td>\n",
       "      <td>0</td>\n",
       "      <td>1</td>\n",
       "    </tr>\n",
       "    <tr>\n",
       "      <th>...</th>\n",
       "      <td>...</td>\n",
       "      <td>...</td>\n",
       "      <td>...</td>\n",
       "      <td>...</td>\n",
       "      <td>...</td>\n",
       "      <td>...</td>\n",
       "      <td>...</td>\n",
       "      <td>...</td>\n",
       "      <td>...</td>\n",
       "      <td>...</td>\n",
       "      <td>...</td>\n",
       "      <td>...</td>\n",
       "    </tr>\n",
       "    <tr>\n",
       "      <th>799</th>\n",
       "      <td>16507.070267</td>\n",
       "      <td>16229</td>\n",
       "      <td>Saturn</td>\n",
       "      <td>L Series</td>\n",
       "      <td>L300 Sedan 4D</td>\n",
       "      <td>Sedan</td>\n",
       "      <td>6</td>\n",
       "      <td>3.0</td>\n",
       "      <td>4</td>\n",
       "      <td>1</td>\n",
       "      <td>0</td>\n",
       "      <td>0</td>\n",
       "    </tr>\n",
       "    <tr>\n",
       "      <th>800</th>\n",
       "      <td>16175.957604</td>\n",
       "      <td>19095</td>\n",
       "      <td>Saturn</td>\n",
       "      <td>L Series</td>\n",
       "      <td>L300 Sedan 4D</td>\n",
       "      <td>Sedan</td>\n",
       "      <td>6</td>\n",
       "      <td>3.0</td>\n",
       "      <td>4</td>\n",
       "      <td>1</td>\n",
       "      <td>1</td>\n",
       "      <td>0</td>\n",
       "    </tr>\n",
       "    <tr>\n",
       "      <th>801</th>\n",
       "      <td>15731.132897</td>\n",
       "      <td>20484</td>\n",
       "      <td>Saturn</td>\n",
       "      <td>L Series</td>\n",
       "      <td>L300 Sedan 4D</td>\n",
       "      <td>Sedan</td>\n",
       "      <td>6</td>\n",
       "      <td>3.0</td>\n",
       "      <td>4</td>\n",
       "      <td>1</td>\n",
       "      <td>1</td>\n",
       "      <td>0</td>\n",
       "    </tr>\n",
       "    <tr>\n",
       "      <th>802</th>\n",
       "      <td>15118.893228</td>\n",
       "      <td>25979</td>\n",
       "      <td>Saturn</td>\n",
       "      <td>L Series</td>\n",
       "      <td>L300 Sedan 4D</td>\n",
       "      <td>Sedan</td>\n",
       "      <td>6</td>\n",
       "      <td>3.0</td>\n",
       "      <td>4</td>\n",
       "      <td>1</td>\n",
       "      <td>1</td>\n",
       "      <td>0</td>\n",
       "    </tr>\n",
       "    <tr>\n",
       "      <th>803</th>\n",
       "      <td>13585.636802</td>\n",
       "      <td>35662</td>\n",
       "      <td>Saturn</td>\n",
       "      <td>L Series</td>\n",
       "      <td>L300 Sedan 4D</td>\n",
       "      <td>Sedan</td>\n",
       "      <td>6</td>\n",
       "      <td>3.0</td>\n",
       "      <td>4</td>\n",
       "      <td>1</td>\n",
       "      <td>0</td>\n",
       "      <td>0</td>\n",
       "    </tr>\n",
       "  </tbody>\n",
       "</table>\n",
       "<p>804 rows × 12 columns</p>\n",
       "</div>"
      ],
      "text/plain": [
       "            Price  Mileage    Make     Model           Trim   Type  Cylinder  \\\n",
       "0    17314.103129     8221   Buick   Century       Sedan 4D  Sedan         6   \n",
       "1    17542.036083     9135   Buick   Century       Sedan 4D  Sedan         6   \n",
       "2    16218.847862    13196   Buick   Century       Sedan 4D  Sedan         6   \n",
       "3    16336.913140    16342   Buick   Century       Sedan 4D  Sedan         6   \n",
       "4    16339.170324    19832   Buick   Century       Sedan 4D  Sedan         6   \n",
       "..            ...      ...     ...       ...            ...    ...       ...   \n",
       "799  16507.070267    16229  Saturn  L Series  L300 Sedan 4D  Sedan         6   \n",
       "800  16175.957604    19095  Saturn  L Series  L300 Sedan 4D  Sedan         6   \n",
       "801  15731.132897    20484  Saturn  L Series  L300 Sedan 4D  Sedan         6   \n",
       "802  15118.893228    25979  Saturn  L Series  L300 Sedan 4D  Sedan         6   \n",
       "803  13585.636802    35662  Saturn  L Series  L300 Sedan 4D  Sedan         6   \n",
       "\n",
       "     Liter  Doors  Cruise  Sound  Leather  \n",
       "0      3.1      4       1      1        1  \n",
       "1      3.1      4       1      1        0  \n",
       "2      3.1      4       1      1        0  \n",
       "3      3.1      4       1      0        0  \n",
       "4      3.1      4       1      0        1  \n",
       "..     ...    ...     ...    ...      ...  \n",
       "799    3.0      4       1      0        0  \n",
       "800    3.0      4       1      1        0  \n",
       "801    3.0      4       1      1        0  \n",
       "802    3.0      4       1      1        0  \n",
       "803    3.0      4       1      0        0  \n",
       "\n",
       "[804 rows x 12 columns]"
      ]
     },
     "execution_count": 11,
     "metadata": {},
     "output_type": "execute_result"
    }
   ],
   "source": [
    "df"
   ]
  },
  {
   "cell_type": "code",
   "execution_count": 12,
   "metadata": {},
   "outputs": [
    {
     "data": {
      "text/html": [
       "<div>\n",
       "<style scoped>\n",
       "    .dataframe tbody tr th:only-of-type {\n",
       "        vertical-align: middle;\n",
       "    }\n",
       "\n",
       "    .dataframe tbody tr th {\n",
       "        vertical-align: top;\n",
       "    }\n",
       "\n",
       "    .dataframe thead th {\n",
       "        text-align: right;\n",
       "    }\n",
       "</style>\n",
       "<table border=\"1\" class=\"dataframe\">\n",
       "  <thead>\n",
       "    <tr style=\"text-align: right;\">\n",
       "      <th></th>\n",
       "      <th>Price</th>\n",
       "      <th>Mileage</th>\n",
       "      <th>Cylinder</th>\n",
       "      <th>Liter</th>\n",
       "      <th>Doors</th>\n",
       "      <th>Cruise</th>\n",
       "      <th>Sound</th>\n",
       "      <th>Leather</th>\n",
       "    </tr>\n",
       "  </thead>\n",
       "  <tbody>\n",
       "    <tr>\n",
       "      <th>Price</th>\n",
       "      <td>1.000000</td>\n",
       "      <td>-0.143051</td>\n",
       "      <td>0.569086</td>\n",
       "      <td>0.558146</td>\n",
       "      <td>-0.138750</td>\n",
       "      <td>0.430851</td>\n",
       "      <td>-0.124348</td>\n",
       "      <td>0.157197</td>\n",
       "    </tr>\n",
       "    <tr>\n",
       "      <th>Mileage</th>\n",
       "      <td>-0.143051</td>\n",
       "      <td>1.000000</td>\n",
       "      <td>-0.029461</td>\n",
       "      <td>-0.018641</td>\n",
       "      <td>-0.016944</td>\n",
       "      <td>0.025037</td>\n",
       "      <td>-0.026146</td>\n",
       "      <td>0.001005</td>\n",
       "    </tr>\n",
       "    <tr>\n",
       "      <th>Cylinder</th>\n",
       "      <td>0.569086</td>\n",
       "      <td>-0.029461</td>\n",
       "      <td>1.000000</td>\n",
       "      <td>0.957897</td>\n",
       "      <td>0.002206</td>\n",
       "      <td>0.354285</td>\n",
       "      <td>-0.089704</td>\n",
       "      <td>0.075520</td>\n",
       "    </tr>\n",
       "    <tr>\n",
       "      <th>Liter</th>\n",
       "      <td>0.558146</td>\n",
       "      <td>-0.018641</td>\n",
       "      <td>0.957897</td>\n",
       "      <td>1.000000</td>\n",
       "      <td>-0.079259</td>\n",
       "      <td>0.377509</td>\n",
       "      <td>-0.065527</td>\n",
       "      <td>0.087332</td>\n",
       "    </tr>\n",
       "    <tr>\n",
       "      <th>Doors</th>\n",
       "      <td>-0.138750</td>\n",
       "      <td>-0.016944</td>\n",
       "      <td>0.002206</td>\n",
       "      <td>-0.079259</td>\n",
       "      <td>1.000000</td>\n",
       "      <td>-0.047674</td>\n",
       "      <td>-0.062530</td>\n",
       "      <td>-0.061969</td>\n",
       "    </tr>\n",
       "    <tr>\n",
       "      <th>Cruise</th>\n",
       "      <td>0.430851</td>\n",
       "      <td>0.025037</td>\n",
       "      <td>0.354285</td>\n",
       "      <td>0.377509</td>\n",
       "      <td>-0.047674</td>\n",
       "      <td>1.000000</td>\n",
       "      <td>-0.091730</td>\n",
       "      <td>-0.070573</td>\n",
       "    </tr>\n",
       "    <tr>\n",
       "      <th>Sound</th>\n",
       "      <td>-0.124348</td>\n",
       "      <td>-0.026146</td>\n",
       "      <td>-0.089704</td>\n",
       "      <td>-0.065527</td>\n",
       "      <td>-0.062530</td>\n",
       "      <td>-0.091730</td>\n",
       "      <td>1.000000</td>\n",
       "      <td>0.165444</td>\n",
       "    </tr>\n",
       "    <tr>\n",
       "      <th>Leather</th>\n",
       "      <td>0.157197</td>\n",
       "      <td>0.001005</td>\n",
       "      <td>0.075520</td>\n",
       "      <td>0.087332</td>\n",
       "      <td>-0.061969</td>\n",
       "      <td>-0.070573</td>\n",
       "      <td>0.165444</td>\n",
       "      <td>1.000000</td>\n",
       "    </tr>\n",
       "  </tbody>\n",
       "</table>\n",
       "</div>"
      ],
      "text/plain": [
       "             Price   Mileage  Cylinder     Liter     Doors    Cruise  \\\n",
       "Price     1.000000 -0.143051  0.569086  0.558146 -0.138750  0.430851   \n",
       "Mileage  -0.143051  1.000000 -0.029461 -0.018641 -0.016944  0.025037   \n",
       "Cylinder  0.569086 -0.029461  1.000000  0.957897  0.002206  0.354285   \n",
       "Liter     0.558146 -0.018641  0.957897  1.000000 -0.079259  0.377509   \n",
       "Doors    -0.138750 -0.016944  0.002206 -0.079259  1.000000 -0.047674   \n",
       "Cruise    0.430851  0.025037  0.354285  0.377509 -0.047674  1.000000   \n",
       "Sound    -0.124348 -0.026146 -0.089704 -0.065527 -0.062530 -0.091730   \n",
       "Leather   0.157197  0.001005  0.075520  0.087332 -0.061969 -0.070573   \n",
       "\n",
       "             Sound   Leather  \n",
       "Price    -0.124348  0.157197  \n",
       "Mileage  -0.026146  0.001005  \n",
       "Cylinder -0.089704  0.075520  \n",
       "Liter    -0.065527  0.087332  \n",
       "Doors    -0.062530 -0.061969  \n",
       "Cruise   -0.091730 -0.070573  \n",
       "Sound     1.000000  0.165444  \n",
       "Leather   0.165444  1.000000  "
      ]
     },
     "execution_count": 12,
     "metadata": {},
     "output_type": "execute_result"
    }
   ],
   "source": [
    "df.corr()#Pearson correlation matrix- sütunların birbirlerine bağlılık oranı"
   ]
  },
  {
   "cell_type": "code",
   "execution_count": 13,
   "metadata": {},
   "outputs": [
    {
     "data": {
      "text/plain": [
       "Price       1.000000\n",
       "Cylinder    0.569086\n",
       "Liter       0.558146\n",
       "Cruise      0.430851\n",
       "Leather     0.157197\n",
       "Mileage     0.143051\n",
       "Doors       0.138750\n",
       "Sound       0.124348\n",
       "Name: Price, dtype: float64"
      ]
     },
     "execution_count": 13,
     "metadata": {},
     "output_type": "execute_result"
    }
   ],
   "source": [
    "abs(df.corr()['Price']).sort_values(ascending=False)#abs absolute value"
   ]
  },
  {
   "cell_type": "code",
   "execution_count": 14,
   "metadata": {},
   "outputs": [],
   "source": [
    "import matplotlib.pyplot as plt\n",
    "import seaborn as sns\n",
    "%matplotlib inline \n",
    "\n",
    "#en sonuncuyu yazmazsak tablo ramde olusur"
   ]
  },
  {
   "cell_type": "code",
   "execution_count": 15,
   "metadata": {},
   "outputs": [
    {
     "data": {
      "text/plain": [
       "<AxesSubplot:>"
      ]
     },
     "execution_count": 15,
     "metadata": {},
     "output_type": "execute_result"
    },
    {
     "data": {
      "image/png": "[encoded data removed]",
      "text/plain": [
       "<Figure size 1008x864 with 2 Axes>"
      ]
     },
     "metadata": {
      "needs_background": "light"
     },
     "output_type": "display_data"
    }
   ],
   "source": [
    "plt.subplots(figsize=(14,12))\n",
    "sns.heatmap(df.corr(), annot= True)"
   ]
  },
  {
   "cell_type": "code",
   "execution_count": 16,
   "metadata": {},
   "outputs": [],
   "source": [
    "#Korelasyonu %20 ile %9* arası olan sütunları alıyoruz          \n",
    "x = df[['Mileage','Cylinder','Liter','Cruise']]"
   ]
  },
  {
   "cell_type": "code",
   "execution_count": 17,
   "metadata": {},
   "outputs": [
    {
     "data": {
      "text/html": [
       "<div>\n",
       "<style scoped>\n",
       "    .dataframe tbody tr th:only-of-type {\n",
       "        vertical-align: middle;\n",
       "    }\n",
       "\n",
       "    .dataframe tbody tr th {\n",
       "        vertical-align: top;\n",
       "    }\n",
       "\n",
       "    .dataframe thead th {\n",
       "        text-align: right;\n",
       "    }\n",
       "</style>\n",
       "<table border=\"1\" class=\"dataframe\">\n",
       "  <thead>\n",
       "    <tr style=\"text-align: right;\">\n",
       "      <th></th>\n",
       "      <th>Mileage</th>\n",
       "      <th>Cylinder</th>\n",
       "      <th>Liter</th>\n",
       "      <th>Cruise</th>\n",
       "    </tr>\n",
       "  </thead>\n",
       "  <tbody>\n",
       "    <tr>\n",
       "      <th>0</th>\n",
       "      <td>8221</td>\n",
       "      <td>6</td>\n",
       "      <td>3.1</td>\n",
       "      <td>1</td>\n",
       "    </tr>\n",
       "    <tr>\n",
       "      <th>1</th>\n",
       "      <td>9135</td>\n",
       "      <td>6</td>\n",
       "      <td>3.1</td>\n",
       "      <td>1</td>\n",
       "    </tr>\n",
       "    <tr>\n",
       "      <th>2</th>\n",
       "      <td>13196</td>\n",
       "      <td>6</td>\n",
       "      <td>3.1</td>\n",
       "      <td>1</td>\n",
       "    </tr>\n",
       "    <tr>\n",
       "      <th>3</th>\n",
       "      <td>16342</td>\n",
       "      <td>6</td>\n",
       "      <td>3.1</td>\n",
       "      <td>1</td>\n",
       "    </tr>\n",
       "    <tr>\n",
       "      <th>4</th>\n",
       "      <td>19832</td>\n",
       "      <td>6</td>\n",
       "      <td>3.1</td>\n",
       "      <td>1</td>\n",
       "    </tr>\n",
       "  </tbody>\n",
       "</table>\n",
       "</div>"
      ],
      "text/plain": [
       "   Mileage  Cylinder  Liter  Cruise\n",
       "0     8221         6    3.1       1\n",
       "1     9135         6    3.1       1\n",
       "2    13196         6    3.1       1\n",
       "3    16342         6    3.1       1\n",
       "4    19832         6    3.1       1"
      ]
     },
     "execution_count": 17,
     "metadata": {},
     "output_type": "execute_result"
    }
   ],
   "source": [
    "x.head()"
   ]
  },
  {
   "cell_type": "code",
   "execution_count": 18,
   "metadata": {},
   "outputs": [],
   "source": [
    "#hedefimizi tanımlıyoruz\n",
    "y = df[['Price']]"
   ]
  },
  {
   "cell_type": "code",
   "execution_count": 19,
   "metadata": {},
   "outputs": [
    {
     "data": {
      "text/plain": [
       "(804, 1)"
      ]
     },
     "execution_count": 19,
     "metadata": {},
     "output_type": "execute_result"
    }
   ],
   "source": [
    "y.shape"
   ]
  },
  {
   "cell_type": "code",
   "execution_count": 20,
   "metadata": {},
   "outputs": [
    {
     "data": {
      "text/html": [
       "<div>\n",
       "<style scoped>\n",
       "    .dataframe tbody tr th:only-of-type {\n",
       "        vertical-align: middle;\n",
       "    }\n",
       "\n",
       "    .dataframe tbody tr th {\n",
       "        vertical-align: top;\n",
       "    }\n",
       "\n",
       "    .dataframe thead th {\n",
       "        text-align: right;\n",
       "    }\n",
       "</style>\n",
       "<table border=\"1\" class=\"dataframe\">\n",
       "  <thead>\n",
       "    <tr style=\"text-align: right;\">\n",
       "      <th></th>\n",
       "      <th>Price</th>\n",
       "    </tr>\n",
       "  </thead>\n",
       "  <tbody>\n",
       "    <tr>\n",
       "      <th>0</th>\n",
       "      <td>17314.103129</td>\n",
       "    </tr>\n",
       "    <tr>\n",
       "      <th>1</th>\n",
       "      <td>17542.036083</td>\n",
       "    </tr>\n",
       "    <tr>\n",
       "      <th>2</th>\n",
       "      <td>16218.847862</td>\n",
       "    </tr>\n",
       "    <tr>\n",
       "      <th>3</th>\n",
       "      <td>16336.913140</td>\n",
       "    </tr>\n",
       "    <tr>\n",
       "      <th>4</th>\n",
       "      <td>16339.170324</td>\n",
       "    </tr>\n",
       "  </tbody>\n",
       "</table>\n",
       "</div>"
      ],
      "text/plain": [
       "          Price\n",
       "0  17314.103129\n",
       "1  17542.036083\n",
       "2  16218.847862\n",
       "3  16336.913140\n",
       "4  16339.170324"
      ]
     },
     "execution_count": 20,
     "metadata": {},
     "output_type": "execute_result"
    }
   ],
   "source": [
    "y.head()"
   ]
  },
  {
   "cell_type": "code",
   "execution_count": 21,
   "metadata": {},
   "outputs": [
    {
     "data": {
      "text/plain": [
       "<seaborn.axisgrid.PairGrid at 0x27a715581f0>"
      ]
     },
     "execution_count": 21,
     "metadata": {},
     "output_type": "execute_result"
    },
    {
     "data": {
      "image/png": "[encoded data removed]",
      "text/plain": [
       "<Figure size 1440x1440 with 72 Axes>"
      ]
     },
     "metadata": {
      "needs_background": "light"
     },
     "output_type": "display_data"
    }
   ],
   "source": [
    "sns.pairplot(df)#bütun sutunların butun sutunlara gore degisimini cizer"
   ]
  },
  {
   "cell_type": "code",
   "execution_count": 22,
   "metadata": {},
   "outputs": [],
   "source": [
    "from sklearn.linear_model import LinearRegression #sk-science kit learn,es.kay learn demek\n",
    "from sklearn.model_selection import train_test_split#%80ini veriyoruz %20sini saklıyoruz % 20sini kendi hesaplıyor ,basarı oranını karsılastırıyor\n",
    "#yani %80i ile biz eğitiyoruz kalanını tahmin ettiriyoru< sonra da basarı oranımızı hesaplıyoruz 80 ve  üstü çıkarsa basarılı"
   ]
  },
  {
   "cell_type": "code",
   "execution_count": 23,
   "metadata": {},
   "outputs": [],
   "source": [
    "x_train, x_test,y_train, y_test = train_test_split(x,y,test_size=0.20,random_state=13)#random state bilgisayar randm sayıyı uretirken bilgisayarın saatini kullanır eger biz deger verirsek random state verirsek o sayıyı referans alır yanı diger seferkinde degisen saati deil 13 u referans alır\n"
   ]
  },
  {
   "cell_type": "code",
   "execution_count": 24,
   "metadata": {},
   "outputs": [
    {
     "data": {
      "text/plain": [
       "((643, 4), (161, 4), (643, 1), (161, 1))"
      ]
     },
     "execution_count": 24,
     "metadata": {},
     "output_type": "execute_result"
    }
   ],
   "source": [
    "x_train.shape, x_test.shape,y_train.shape, y_test.shape "
   ]
  },
  {
   "cell_type": "code",
   "execution_count": 25,
   "metadata": {},
   "outputs": [],
   "source": [
    "lr = LinearRegression()\n",
    "regmodel = lr.fit(x_train,y_train)#MODEL X_TRAİN verisine karsılık y_train verisine bakıp ogreniyor"
   ]
  },
  {
   "cell_type": "code",
   "execution_count": 26,
   "metadata": {
    "collapsed": true
   },
   "outputs": [
    {
     "data": {
      "text/plain": [
       "array([[11148.62940387],\n",
       "       [25662.63147418],\n",
       "       [18279.41766294],\n",
       "       [11540.73917302],\n",
       "       [23426.0701786 ],\n",
       "       [31420.5453541 ],\n",
       "       [19328.85628173],\n",
       "       [24773.25185754],\n",
       "       [29200.32466335],\n",
       "       [11183.31863407],\n",
       "       [24299.55929987],\n",
       "       [20538.26465205],\n",
       "       [17881.31995338],\n",
       "       [26696.26797506],\n",
       "       [24162.40088302],\n",
       "       [20818.88388614],\n",
       "       [11374.10940017],\n",
       "       [24693.41195717],\n",
       "       [24567.80942355],\n",
       "       [30460.75963077],\n",
       "       [20163.65672799],\n",
       "       [18471.51729144],\n",
       "       [18182.01235844],\n",
       "       [30285.16775419],\n",
       "       [24998.35059689],\n",
       "       [23758.4680427 ],\n",
       "       [12176.58918638],\n",
       "       [17891.15452895],\n",
       "       [24576.53671008],\n",
       "       [13871.91278504],\n",
       "       [12783.85110583],\n",
       "       [23880.42757003],\n",
       "       [19007.58027511],\n",
       "       [24351.9507661 ],\n",
       "       [25304.65292335],\n",
       "       [15315.44966857],\n",
       "       [34075.70194812],\n",
       "       [26798.72130862],\n",
       "       [29833.85014066],\n",
       "       [11163.64948293],\n",
       "       [18336.15776947],\n",
       "       [24920.56804464],\n",
       "       [12080.92558763],\n",
       "       [27815.15185123],\n",
       "       [20842.77887386],\n",
       "       [27937.45820925],\n",
       "       [19734.0407953 ],\n",
       "       [11165.43758758],\n",
       "       [13059.55526229],\n",
       "       [24937.54424857],\n",
       "       [31295.18842793],\n",
       "       [25784.92704196],\n",
       "       [12350.59334926],\n",
       "       [19050.02515229],\n",
       "       [24791.82450988],\n",
       "       [11996.90624959],\n",
       "       [13680.20638613],\n",
       "       [19150.51663359],\n",
       "       [19620.90016988],\n",
       "       [24731.20776226],\n",
       "       [26291.13946823],\n",
       "       [24646.20599443],\n",
       "       [12827.83848021],\n",
       "       [24967.59519692],\n",
       "       [23558.03230173],\n",
       "       [ 9363.18533088],\n",
       "       [ 9704.91370988],\n",
       "       [34496.97940354],\n",
       "       [31796.116183  ],\n",
       "       [18499.64654117],\n",
       "       [18361.7836727 ],\n",
       "       [30571.26449811],\n",
       "       [21310.79147522],\n",
       "       [ 9896.82255527],\n",
       "       [21748.07467741],\n",
       "       [16567.66508199],\n",
       "       [11166.13124895],\n",
       "       [18327.98849482],\n",
       "       [13155.24044153],\n",
       "       [17442.87669333],\n",
       "       [17877.49813664],\n",
       "       [24879.4416377 ],\n",
       "       [18468.95675579],\n",
       "       [29901.44049641],\n",
       "       [22705.39720787],\n",
       "       [26486.40049595],\n",
       "       [25522.98050105],\n",
       "       [12989.52835702],\n",
       "       [25066.47738404],\n",
       "       [18342.04772457],\n",
       "       [17719.61928633],\n",
       "       [19008.36231395],\n",
       "       [19569.58156644],\n",
       "       [14736.46138307],\n",
       "       [23727.00819111],\n",
       "       [25173.75287277],\n",
       "       [26643.97773207],\n",
       "       [23988.60790133],\n",
       "       [20158.76204845],\n",
       "       [11673.23772755],\n",
       "       [18665.76146311],\n",
       "       [18297.76952625],\n",
       "       [11193.13162916],\n",
       "       [19785.16019019],\n",
       "       [24349.67144656],\n",
       "       [19531.2149037 ],\n",
       "       [26757.06353314],\n",
       "       [19820.98908016],\n",
       "       [19656.07943258],\n",
       "       [25596.47160215],\n",
       "       [12572.31832579],\n",
       "       [31008.45608491],\n",
       "       [21615.06127197],\n",
       "       [21164.28008984],\n",
       "       [17491.51313979],\n",
       "       [30297.50567627],\n",
       "       [31257.82783099],\n",
       "       [34154.91498409],\n",
       "       [25885.95495466],\n",
       "       [12609.01968761],\n",
       "       [19767.53554138],\n",
       "       [15332.83950017],\n",
       "       [30802.56559699],\n",
       "       [13861.899399  ],\n",
       "       [18155.01197824],\n",
       "       [18912.82151893],\n",
       "       [19029.21634137],\n",
       "       [11922.69990664],\n",
       "       [24612.28801283],\n",
       "       [16421.31092659],\n",
       "       [18879.74158291],\n",
       "       [32578.68994533],\n",
       "       [17924.53607916],\n",
       "       [14126.89650806],\n",
       "       [12575.93975159],\n",
       "       [12764.53957561],\n",
       "       [18504.51964023],\n",
       "       [10018.010834  ],\n",
       "       [25273.71871291],\n",
       "       [24427.76640324],\n",
       "       [12821.58011393],\n",
       "       [11956.13746358],\n",
       "       [ 9484.41882611],\n",
       "       [18148.5284026 ],\n",
       "       [34328.07236668],\n",
       "       [26644.2901365 ],\n",
       "       [26104.11451214],\n",
       "       [17345.01136226],\n",
       "       [25676.93631137],\n",
       "       [18677.20533287],\n",
       "       [18884.08904081],\n",
       "       [17760.20926187],\n",
       "       [34291.41622136],\n",
       "       [35110.12048785],\n",
       "       [19206.84193005],\n",
       "       [11535.57525002],\n",
       "       [32305.90481857],\n",
       "       [28457.43904132],\n",
       "       [31173.4185013 ],\n",
       "       [24308.14220219],\n",
       "       [10245.50296192]])"
      ]
     },
     "execution_count": 26,
     "metadata": {},
     "output_type": "execute_result"
    }
   ],
   "source": [
    "y_pretest = regmodel.predict(x_test)#ogrendigi model ile test icin  ayırdıgımız verinin fiyatlarını tahmin ediyor\n",
    "y_pretest"
   ]
  },
  {
   "cell_type": "markdown",
   "metadata": {},
   "source": [
    "###### !!!bundan sonra butun makine ogrenmesinde ogrenmek fit ,tahmin etmek predict"
   ]
  },
  {
   "cell_type": "code",
   "execution_count": 27,
   "metadata": {},
   "outputs": [],
   "source": [
    "from sklearn.metrics import mean_squared_error, r2_score \n",
    "#basarı hesaplama kısmı\n",
    "#r2 %80 ve üzeri ise basarılı"
   ]
  },
  {
   "cell_type": "code",
   "execution_count": 28,
   "metadata": {},
   "outputs": [
    {
     "data": {
      "text/plain": [
       "8036.440424336674"
      ]
     },
     "execution_count": 28,
     "metadata": {},
     "output_type": "execute_result"
    }
   ],
   "source": [
    " (mean_squared_error(y_test, y_pretest)) ** 0.5 #araba basına hata oranı yani biz toplam  8000 dolar hatalı bulduk"
   ]
  },
  {
   "cell_type": "code",
   "execution_count": 29,
   "metadata": {},
   "outputs": [
    {
     "data": {
      "text/plain": [
       "0.45340342779819476"
      ]
     },
     "execution_count": 29,
     "metadata": {},
     "output_type": "execute_result"
    }
   ],
   "source": [
    "r2_score(y_test, y_pretest)#basarı oranı"
   ]
  },
  {
   "cell_type": "markdown",
   "metadata": {},
   "source": [
    "Note:0.45 yuzde 45 , basarısız old için modelimizi yeniden tanımlıyacaz"
   ]
  },
  {
   "cell_type": "code",
   "execution_count": 30,
   "metadata": {},
   "outputs": [],
   "source": [
    "x,y =df[['Mileage','Cylinder','Liter','Cruise','Make','Trim']],df[['Price']]"
   ]
  },
  {
   "cell_type": "code",
   "execution_count": 31,
   "metadata": {},
   "outputs": [
    {
     "data": {
      "text/html": [
       "<div>\n",
       "<style scoped>\n",
       "    .dataframe tbody tr th:only-of-type {\n",
       "        vertical-align: middle;\n",
       "    }\n",
       "\n",
       "    .dataframe tbody tr th {\n",
       "        vertical-align: top;\n",
       "    }\n",
       "\n",
       "    .dataframe thead th {\n",
       "        text-align: right;\n",
       "    }\n",
       "</style>\n",
       "<table border=\"1\" class=\"dataframe\">\n",
       "  <thead>\n",
       "    <tr style=\"text-align: right;\">\n",
       "      <th></th>\n",
       "      <th>Mileage</th>\n",
       "      <th>Cylinder</th>\n",
       "      <th>Liter</th>\n",
       "      <th>Cruise</th>\n",
       "      <th>Make</th>\n",
       "      <th>Trim</th>\n",
       "    </tr>\n",
       "  </thead>\n",
       "  <tbody>\n",
       "    <tr>\n",
       "      <th>0</th>\n",
       "      <td>8221</td>\n",
       "      <td>6</td>\n",
       "      <td>3.1</td>\n",
       "      <td>1</td>\n",
       "      <td>Buick</td>\n",
       "      <td>Sedan 4D</td>\n",
       "    </tr>\n",
       "    <tr>\n",
       "      <th>1</th>\n",
       "      <td>9135</td>\n",
       "      <td>6</td>\n",
       "      <td>3.1</td>\n",
       "      <td>1</td>\n",
       "      <td>Buick</td>\n",
       "      <td>Sedan 4D</td>\n",
       "    </tr>\n",
       "    <tr>\n",
       "      <th>2</th>\n",
       "      <td>13196</td>\n",
       "      <td>6</td>\n",
       "      <td>3.1</td>\n",
       "      <td>1</td>\n",
       "      <td>Buick</td>\n",
       "      <td>Sedan 4D</td>\n",
       "    </tr>\n",
       "    <tr>\n",
       "      <th>3</th>\n",
       "      <td>16342</td>\n",
       "      <td>6</td>\n",
       "      <td>3.1</td>\n",
       "      <td>1</td>\n",
       "      <td>Buick</td>\n",
       "      <td>Sedan 4D</td>\n",
       "    </tr>\n",
       "    <tr>\n",
       "      <th>4</th>\n",
       "      <td>19832</td>\n",
       "      <td>6</td>\n",
       "      <td>3.1</td>\n",
       "      <td>1</td>\n",
       "      <td>Buick</td>\n",
       "      <td>Sedan 4D</td>\n",
       "    </tr>\n",
       "  </tbody>\n",
       "</table>\n",
       "</div>"
      ],
      "text/plain": [
       "   Mileage  Cylinder  Liter  Cruise   Make      Trim\n",
       "0     8221         6    3.1       1  Buick  Sedan 4D\n",
       "1     9135         6    3.1       1  Buick  Sedan 4D\n",
       "2    13196         6    3.1       1  Buick  Sedan 4D\n",
       "3    16342         6    3.1       1  Buick  Sedan 4D\n",
       "4    19832         6    3.1       1  Buick  Sedan 4D"
      ]
     },
     "execution_count": 31,
     "metadata": {},
     "output_type": "execute_result"
    }
   ],
   "source": [
    "x.head()"
   ]
  },
  {
   "cell_type": "code",
   "execution_count": 32,
   "metadata": {
    "scrolled": true
   },
   "outputs": [
    {
     "data": {
      "text/html": [
       "<div>\n",
       "<style scoped>\n",
       "    .dataframe tbody tr th:only-of-type {\n",
       "        vertical-align: middle;\n",
       "    }\n",
       "\n",
       "    .dataframe tbody tr th {\n",
       "        vertical-align: top;\n",
       "    }\n",
       "\n",
       "    .dataframe thead th {\n",
       "        text-align: right;\n",
       "    }\n",
       "</style>\n",
       "<table border=\"1\" class=\"dataframe\">\n",
       "  <thead>\n",
       "    <tr style=\"text-align: right;\">\n",
       "      <th></th>\n",
       "      <th>Mileage</th>\n",
       "      <th>Cylinder</th>\n",
       "      <th>Liter</th>\n",
       "      <th>Cruise</th>\n",
       "      <th>Make_Cadillac</th>\n",
       "      <th>Make_Chevrolet</th>\n",
       "      <th>Make_Pontiac</th>\n",
       "      <th>Make_SAAB</th>\n",
       "      <th>Make_Saturn</th>\n",
       "      <th>Trim_Aero Conv 2D</th>\n",
       "      <th>...</th>\n",
       "      <th>Trim_Quad Coupe 2D</th>\n",
       "      <th>Trim_SE Sedan 4D</th>\n",
       "      <th>Trim_SLE Sedan 4D</th>\n",
       "      <th>Trim_SS Coupe 2D</th>\n",
       "      <th>Trim_SS Sedan 4D</th>\n",
       "      <th>Trim_SVM Hatchback 4D</th>\n",
       "      <th>Trim_SVM Sedan 4D</th>\n",
       "      <th>Trim_Sedan 4D</th>\n",
       "      <th>Trim_Special Ed Ultra 4D</th>\n",
       "      <th>Trim_Sportwagon 4D</th>\n",
       "    </tr>\n",
       "  </thead>\n",
       "  <tbody>\n",
       "    <tr>\n",
       "      <th>0</th>\n",
       "      <td>8221</td>\n",
       "      <td>6</td>\n",
       "      <td>3.1</td>\n",
       "      <td>1</td>\n",
       "      <td>0</td>\n",
       "      <td>0</td>\n",
       "      <td>0</td>\n",
       "      <td>0</td>\n",
       "      <td>0</td>\n",
       "      <td>0</td>\n",
       "      <td>...</td>\n",
       "      <td>0</td>\n",
       "      <td>0</td>\n",
       "      <td>0</td>\n",
       "      <td>0</td>\n",
       "      <td>0</td>\n",
       "      <td>0</td>\n",
       "      <td>0</td>\n",
       "      <td>1</td>\n",
       "      <td>0</td>\n",
       "      <td>0</td>\n",
       "    </tr>\n",
       "    <tr>\n",
       "      <th>1</th>\n",
       "      <td>9135</td>\n",
       "      <td>6</td>\n",
       "      <td>3.1</td>\n",
       "      <td>1</td>\n",
       "      <td>0</td>\n",
       "      <td>0</td>\n",
       "      <td>0</td>\n",
       "      <td>0</td>\n",
       "      <td>0</td>\n",
       "      <td>0</td>\n",
       "      <td>...</td>\n",
       "      <td>0</td>\n",
       "      <td>0</td>\n",
       "      <td>0</td>\n",
       "      <td>0</td>\n",
       "      <td>0</td>\n",
       "      <td>0</td>\n",
       "      <td>0</td>\n",
       "      <td>1</td>\n",
       "      <td>0</td>\n",
       "      <td>0</td>\n",
       "    </tr>\n",
       "    <tr>\n",
       "      <th>2</th>\n",
       "      <td>13196</td>\n",
       "      <td>6</td>\n",
       "      <td>3.1</td>\n",
       "      <td>1</td>\n",
       "      <td>0</td>\n",
       "      <td>0</td>\n",
       "      <td>0</td>\n",
       "      <td>0</td>\n",
       "      <td>0</td>\n",
       "      <td>0</td>\n",
       "      <td>...</td>\n",
       "      <td>0</td>\n",
       "      <td>0</td>\n",
       "      <td>0</td>\n",
       "      <td>0</td>\n",
       "      <td>0</td>\n",
       "      <td>0</td>\n",
       "      <td>0</td>\n",
       "      <td>1</td>\n",
       "      <td>0</td>\n",
       "      <td>0</td>\n",
       "    </tr>\n",
       "    <tr>\n",
       "      <th>3</th>\n",
       "      <td>16342</td>\n",
       "      <td>6</td>\n",
       "      <td>3.1</td>\n",
       "      <td>1</td>\n",
       "      <td>0</td>\n",
       "      <td>0</td>\n",
       "      <td>0</td>\n",
       "      <td>0</td>\n",
       "      <td>0</td>\n",
       "      <td>0</td>\n",
       "      <td>...</td>\n",
       "      <td>0</td>\n",
       "      <td>0</td>\n",
       "      <td>0</td>\n",
       "      <td>0</td>\n",
       "      <td>0</td>\n",
       "      <td>0</td>\n",
       "      <td>0</td>\n",
       "      <td>1</td>\n",
       "      <td>0</td>\n",
       "      <td>0</td>\n",
       "    </tr>\n",
       "    <tr>\n",
       "      <th>4</th>\n",
       "      <td>19832</td>\n",
       "      <td>6</td>\n",
       "      <td>3.1</td>\n",
       "      <td>1</td>\n",
       "      <td>0</td>\n",
       "      <td>0</td>\n",
       "      <td>0</td>\n",
       "      <td>0</td>\n",
       "      <td>0</td>\n",
       "      <td>0</td>\n",
       "      <td>...</td>\n",
       "      <td>0</td>\n",
       "      <td>0</td>\n",
       "      <td>0</td>\n",
       "      <td>0</td>\n",
       "      <td>0</td>\n",
       "      <td>0</td>\n",
       "      <td>0</td>\n",
       "      <td>1</td>\n",
       "      <td>0</td>\n",
       "      <td>0</td>\n",
       "    </tr>\n",
       "  </tbody>\n",
       "</table>\n",
       "<p>5 rows × 55 columns</p>\n",
       "</div>"
      ],
      "text/plain": [
       "   Mileage  Cylinder  Liter  Cruise  Make_Cadillac  Make_Chevrolet  \\\n",
       "0     8221         6    3.1       1              0               0   \n",
       "1     9135         6    3.1       1              0               0   \n",
       "2    13196         6    3.1       1              0               0   \n",
       "3    16342         6    3.1       1              0               0   \n",
       "4    19832         6    3.1       1              0               0   \n",
       "\n",
       "   Make_Pontiac  Make_SAAB  Make_Saturn  Trim_Aero Conv 2D  ...  \\\n",
       "0             0          0            0                  0  ...   \n",
       "1             0          0            0                  0  ...   \n",
       "2             0          0            0                  0  ...   \n",
       "3             0          0            0                  0  ...   \n",
       "4             0          0            0                  0  ...   \n",
       "\n",
       "   Trim_Quad Coupe 2D  Trim_SE Sedan 4D  Trim_SLE Sedan 4D  Trim_SS Coupe 2D  \\\n",
       "0                   0                 0                  0                 0   \n",
       "1                   0                 0                  0                 0   \n",
       "2                   0                 0                  0                 0   \n",
       "3                   0                 0                  0                 0   \n",
       "4                   0                 0                  0                 0   \n",
       "\n",
       "   Trim_SS Sedan 4D  Trim_SVM Hatchback 4D  Trim_SVM Sedan 4D  Trim_Sedan 4D  \\\n",
       "0                 0                      0                  0              1   \n",
       "1                 0                      0                  0              1   \n",
       "2                 0                      0                  0              1   \n",
       "3                 0                      0                  0              1   \n",
       "4                 0                      0                  0              1   \n",
       "\n",
       "   Trim_Special Ed Ultra 4D  Trim_Sportwagon 4D  \n",
       "0                         0                   0  \n",
       "1                         0                   0  \n",
       "2                         0                   0  \n",
       "3                         0                   0  \n",
       "4                         0                   0  \n",
       "\n",
       "[5 rows x 55 columns]"
      ]
     },
     "execution_count": 32,
     "metadata": {},
     "output_type": "execute_result"
    }
   ],
   "source": [
    "# text alanlarını numeric alana ceviriyoruz\n",
    "x= pd.get_dummies(x, drop_first=True)\n",
    "x.head()"
   ]
  },
  {
   "cell_type": "code",
   "execution_count": 33,
   "metadata": {},
   "outputs": [
    {
     "data": {
      "text/plain": [
       "array([[12598.2920699 ],\n",
       "       [20910.1504077 ],\n",
       "       [16284.23720867],\n",
       "       [11119.83213478],\n",
       "       [17775.57209261],\n",
       "       [30779.12880603],\n",
       "       [17879.17308903],\n",
       "       [30471.84518438],\n",
       "       [62259.5452672 ],\n",
       "       [11547.99027102],\n",
       "       [17532.97925807],\n",
       "       [14421.95947463],\n",
       "       [12687.08301809],\n",
       "       [22994.1808852 ],\n",
       "       [17783.47184065],\n",
       "       [19408.87684133],\n",
       "       [13336.89617232],\n",
       "       [35337.86682389],\n",
       "       [17013.57763966],\n",
       "       [37651.52782558],\n",
       "       [13843.31249302],\n",
       "       [30186.70701063],\n",
       "       [27761.42782217],\n",
       "       [63373.27533623],\n",
       "       [20228.18119616],\n",
       "       [16261.32566591],\n",
       "       [ 9477.80239708],\n",
       "       [11510.29857391],\n",
       "       [18534.021751  ],\n",
       "       [13891.67907375],\n",
       "       [12735.44912618],\n",
       "       [22322.79628175],\n",
       "       [33231.0275061 ],\n",
       "       [18342.65116507],\n",
       "       [20634.08372835],\n",
       "       [15264.78092984],\n",
       "       [33504.98636248],\n",
       "       [59793.99251344],\n",
       "       [36870.45285288],\n",
       "       [11002.42746474],\n",
       "       [27256.2675799 ],\n",
       "       [18693.14980605],\n",
       "       [11176.53503871],\n",
       "       [26362.29358996],\n",
       "       [16783.30930167],\n",
       "       [27811.83047251],\n",
       "       [17777.59374593],\n",
       "       [11529.63309171],\n",
       "       [10837.61280363],\n",
       "       [18579.25556395],\n",
       "       [45174.1861677 ],\n",
       "       [18911.91035676],\n",
       "       [12746.34693669],\n",
       "       [13749.1234369 ],\n",
       "       [21573.04681627],\n",
       "       [12920.36648237],\n",
       "       [10937.49856273],\n",
       "       [12927.58114429],\n",
       "       [26719.7245235 ],\n",
       "       [21187.65650436],\n",
       "       [18861.43654405],\n",
       "       [35289.4038705 ],\n",
       "       [13236.3000526 ],\n",
       "       [19358.14452134],\n",
       "       [19787.39588787],\n",
       "       [ 6589.4838037 ],\n",
       "       [ 9380.46234501],\n",
       "       [33937.48150714],\n",
       "       [38555.03700102],\n",
       "       [13321.87427879],\n",
       "       [13729.13060049],\n",
       "       [37764.97519375],\n",
       "       [19913.88284428],\n",
       "       [13820.93900269],\n",
       "       [13146.32572375],\n",
       "       [15723.59916857],\n",
       "       [ 8440.438194  ],\n",
       "       [12152.82853953],\n",
       "       [12922.66366558],\n",
       "       [12785.7551555 ],\n",
       "       [34823.01352375],\n",
       "       [18128.30258325],\n",
       "       [16996.37633579],\n",
       "       [36609.91028082],\n",
       "       [17631.7682355 ],\n",
       "       [19061.89694217],\n",
       "       [20498.48406996],\n",
       "       [16853.25998975],\n",
       "       [18496.90739448],\n",
       "       [25302.42063417],\n",
       "       [29414.78762044],\n",
       "       [13706.35120909],\n",
       "       [29185.944937  ],\n",
       "       [15595.08510399],\n",
       "       [22165.29168323],\n",
       "       [17097.58107498],\n",
       "       [19145.0297299 ],\n",
       "       [21425.45573439],\n",
       "       [29790.81399542],\n",
       "       [ 9414.38069136],\n",
       "       [12429.91801306],\n",
       "       [11927.74083152],\n",
       "       [ 8921.49042676],\n",
       "       [17555.45838334],\n",
       "       [14650.3914898 ],\n",
       "       [29764.47880182],\n",
       "       [21791.32149644],\n",
       "       [36818.25534347],\n",
       "       [18530.60432495],\n",
       "       [21880.11432976],\n",
       "       [12324.21961992],\n",
       "       [22915.39266116],\n",
       "       [15566.62439923],\n",
       "       [14870.58024748],\n",
       "       [11294.07969118],\n",
       "       [37346.45451252],\n",
       "       [40069.99713721],\n",
       "       [33586.30866685],\n",
       "       [17828.74752708],\n",
       "       [16462.61921393],\n",
       "       [28770.09526165],\n",
       "       [18267.84002856],\n",
       "       [27943.16130397],\n",
       "       [14297.89573237],\n",
       "       [31603.46267183],\n",
       "       [29424.06712841],\n",
       "       [32500.94516853],\n",
       "       [11657.30329542],\n",
       "       [16175.12864971],\n",
       "       [ 9855.97662376],\n",
       "       [30605.80141438],\n",
       "       [29766.57992531],\n",
       "       [28409.46582768],\n",
       "       [14569.94912982],\n",
       "       [16571.39517942],\n",
       "       [14764.35043583],\n",
       "       [16383.45394804],\n",
       "       [10888.77744761],\n",
       "       [18533.07838714],\n",
       "       [20680.28908975],\n",
       "       [14315.78976659],\n",
       "       [11924.89088197],\n",
       "       [ 7167.27837144],\n",
       "       [17346.55739179],\n",
       "       [67523.8335793 ],\n",
       "       [18261.23850705],\n",
       "       [22597.12073215],\n",
       "       [28757.63464862],\n",
       "       [21005.59700018],\n",
       "       [13706.91424882],\n",
       "       [14265.34380827],\n",
       "       [29183.88835231],\n",
       "       [41446.71408426],\n",
       "       [44024.86784878],\n",
       "       [15103.81096616],\n",
       "       [11909.62670352],\n",
       "       [24247.38959224],\n",
       "       [22324.19987451],\n",
       "       [45049.17377657],\n",
       "       [19519.59407461],\n",
       "       [14036.16725211],\n",
       "       [36910.08135306],\n",
       "       [10809.08301369],\n",
       "       [22013.95937939],\n",
       "       [16304.70164878],\n",
       "       [ 9370.25393871],\n",
       "       [ 9743.5736214 ],\n",
       "       [43728.58297464],\n",
       "       [15210.64445849],\n",
       "       [20985.24993461],\n",
       "       [16371.33820969],\n",
       "       [13391.0861361 ],\n",
       "       [17750.46048888],\n",
       "       [15272.90953019],\n",
       "       [28805.98065765],\n",
       "       [12727.83390519],\n",
       "       [17654.24319775],\n",
       "       [19927.88237637],\n",
       "       [29747.65446041],\n",
       "       [17944.93986678],\n",
       "       [40237.32010386],\n",
       "       [23161.13303282],\n",
       "       [12691.90951971],\n",
       "       [36779.53061769],\n",
       "       [ 8967.46209522],\n",
       "       [27711.86343802],\n",
       "       [12220.5378416 ],\n",
       "       [28194.23054655],\n",
       "       [36260.13151266],\n",
       "       [11786.23566861],\n",
       "       [19987.28293537],\n",
       "       [16003.06490108],\n",
       "       [17667.54663435],\n",
       "       [18886.35658254],\n",
       "       [20971.48205012],\n",
       "       [17396.13535711],\n",
       "       [20301.54982331],\n",
       "       [27288.20907191],\n",
       "       [21580.37015339],\n",
       "       [24013.3629287 ],\n",
       "       [38180.42116879],\n",
       "       [22284.02101094],\n",
       "       [13702.1092621 ],\n",
       "       [ 8518.3089191 ],\n",
       "       [39380.77411703],\n",
       "       [17713.00297571],\n",
       "       [28564.53425358],\n",
       "       [21554.27439692],\n",
       "       [21973.60046892],\n",
       "       [36535.0671868 ],\n",
       "       [26162.03341591],\n",
       "       [29744.53373993],\n",
       "       [12210.3535855 ],\n",
       "       [24263.02056738],\n",
       "       [21144.93467533],\n",
       "       [18575.48831837],\n",
       "       [14337.81861896],\n",
       "       [31150.34669547],\n",
       "       [37229.09793911],\n",
       "       [39091.00876435],\n",
       "       [17751.06254833],\n",
       "       [18231.76005899],\n",
       "       [20708.24606904],\n",
       "       [11820.98924704],\n",
       "       [26875.61432745],\n",
       "       [20748.18563156],\n",
       "       [ 7036.51740481],\n",
       "       [13098.25406415],\n",
       "       [17816.45135351],\n",
       "       [31167.34752962],\n",
       "       [15611.04877317],\n",
       "       [23134.18360746],\n",
       "       [20934.59008999],\n",
       "       [24274.73181056],\n",
       "       [28807.41730611],\n",
       "       [32539.3116733 ],\n",
       "       [13296.59940823],\n",
       "       [13875.16495463],\n",
       "       [15507.08220755],\n",
       "       [20898.60468805],\n",
       "       [12156.83842937],\n",
       "       [11551.81448876]])"
      ]
     },
     "execution_count": 33,
     "metadata": {},
     "output_type": "execute_result"
    }
   ],
   "source": [
    "x_train, x_test,y_train, y_test = train_test_split(x,y,test_size=0.30,random_state=13)#random state bilgisayar randm sayıyı uretirken bilgisayarın saatini kullanır eger biz deger verirsek random state verirsek o sayıyı referans alır yanı diger seferkinde degisen saati deil 13 u referans alır\n",
    "lr = LinearRegression()\n",
    "regmodel = lr.fit(x_train,y_train)#MODEL X_TRAİN verisine karsılık y_train verisine bakıp ogreniyor\n",
    "y_pretest = regmodel.predict(x_test)#ogrendigi model ile test icin  ayırdıgımız verinin fiyatlarını tahmin ediyor\n",
    "y_pretest"
   ]
  },
  {
   "cell_type": "code",
   "execution_count": 34,
   "metadata": {},
   "outputs": [
    {
     "data": {
      "text/plain": [
       "1715.1549742445397"
      ]
     },
     "execution_count": 34,
     "metadata": {},
     "output_type": "execute_result"
    }
   ],
   "source": [
    "(mean_squared_error(y_test, y_pretest)) ** 0.5 #bazıları eksi old için once karesi sonra karekokunu alıoruz\n"
   ]
  },
  {
   "cell_type": "code",
   "execution_count": 35,
   "metadata": {},
   "outputs": [
    {
     "data": {
      "text/plain": [
       "0.9717973599236387"
      ]
     },
     "execution_count": 35,
     "metadata": {},
     "output_type": "execute_result"
    }
   ],
   "source": [
    "r2_score(y_test, y_pretest)#basarı ora"
   ]
  },
  {
   "cell_type": "markdown",
   "metadata": {},
   "source": [
    "NOTE: %97 basarı elde ettik fakat  bunu artırmak için başka modellere de ihtiyac var yanı linear regressiondan baska seeylerle de tahmin ettirmemiz lazım bunun için lasso ve ridge var"
   ]
  },
  {
   "cell_type": "code",
   "execution_count": 36,
   "metadata": {},
   "outputs": [],
   "source": [
    "#LİNEER REGRESSİON\n",
    "#RİDGE LASSO hataların karesini alıp ona göre yol izler ve azaltmaya çalısır\n",
    "from sklearn.linear_model import Ridge, Lasso"
   ]
  },
  {
   "cell_type": "code",
   "execution_count": 37,
   "metadata": {},
   "outputs": [],
   "source": [
    "R = Ridge()\n",
    "R.fit(x_train, y_train)\n",
    "y_pred_ridge = R.predict(x_test)"
   ]
  },
  {
   "cell_type": "code",
   "execution_count": 38,
   "metadata": {},
   "outputs": [
    {
     "data": {
      "text/plain": [
       "array([[12547.06096795],\n",
       "       [21083.62667108],\n",
       "       [16646.51463203],\n",
       "       [11099.62475576],\n",
       "       [17810.15831786],\n",
       "       [30377.36935397],\n",
       "       [18260.40074386],\n",
       "       [30839.88710425],\n",
       "       [59018.32787218],\n",
       "       [11545.92688012],\n",
       "       [18597.35756302],\n",
       "       [14499.47323352],\n",
       "       [12506.84981056],\n",
       "       [23241.34717614],\n",
       "       [17922.54994885],\n",
       "       [19781.34473191],\n",
       "       [13450.33836268],\n",
       "       [35007.77699073],\n",
       "       [17510.30621881],\n",
       "       [38169.13024838],\n",
       "       [13562.73097944],\n",
       "       [30050.76366604],\n",
       "       [27886.46066696],\n",
       "       [60125.68022733],\n",
       "       [20405.56271865],\n",
       "       [16555.93317047],\n",
       "       [ 9823.54724733],\n",
       "       [11243.07693598],\n",
       "       [18738.37009621],\n",
       "       [14036.9270011 ],\n",
       "       [12867.10149153],\n",
       "       [22057.52145177],\n",
       "       [32724.34259025],\n",
       "       [18568.31203248],\n",
       "       [20781.66033397],\n",
       "       [15656.50760348],\n",
       "       [33087.61743731],\n",
       "       [56566.89397041],\n",
       "       [37184.66889582],\n",
       "       [11418.56227066],\n",
       "       [27258.99185829],\n",
       "       [18535.17805069],\n",
       "       [11206.03780474],\n",
       "       [26073.88680122],\n",
       "       [16832.53489927],\n",
       "       [27769.22736215],\n",
       "       [18131.31954536],\n",
       "       [11527.67482219],\n",
       "       [11161.91483498],\n",
       "       [18713.7766605 ],\n",
       "       [44519.23456052],\n",
       "       [19097.76313342],\n",
       "       [12737.42122237],\n",
       "       [13929.12163851],\n",
       "       [21457.1824417 ],\n",
       "       [12783.27828783],\n",
       "       [11314.46521324],\n",
       "       [13288.21076584],\n",
       "       [26976.87131673],\n",
       "       [21199.83630618],\n",
       "       [19141.15465693],\n",
       "       [34959.59155777],\n",
       "       [13224.56864876],\n",
       "       [19383.66823277],\n",
       "       [20271.94276019],\n",
       "       [ 6951.76845122],\n",
       "       [ 9169.91799478],\n",
       "       [33517.63592235],\n",
       "       [39061.92772184],\n",
       "       [13138.00597409],\n",
       "       [13626.94291612],\n",
       "       [38281.92796644],\n",
       "       [20283.45884581],\n",
       "       [10262.11435436],\n",
       "       [13310.47315286],\n",
       "       [15972.19053146],\n",
       "       [ 8792.1234532 ],\n",
       "       [12243.33635169],\n",
       "       [12691.83509466],\n",
       "       [12688.96965865],\n",
       "       [33958.63116564],\n",
       "       [19189.27180198],\n",
       "       [17382.65927758],\n",
       "       [37127.93966264],\n",
       "       [18038.70118389],\n",
       "       [19340.46712962],\n",
       "       [20423.9013891 ],\n",
       "       [16362.4084111 ],\n",
       "       [18759.99323174],\n",
       "       [25549.77352787],\n",
       "       [29283.26462971],\n",
       "       [13886.59434352],\n",
       "       [29302.82036301],\n",
       "       [15808.99340571],\n",
       "       [21900.91879465],\n",
       "       [17200.09628663],\n",
       "       [19629.55266609],\n",
       "       [21699.9325336 ],\n",
       "       [29904.2256721 ],\n",
       "       [ 9746.83278298],\n",
       "       [12793.39747512],\n",
       "       [11658.12873351],\n",
       "       [ 9256.76502732],\n",
       "       [17016.1048064 ],\n",
       "       [15052.3957869 ],\n",
       "       [29779.5602326 ],\n",
       "       [22174.43499227],\n",
       "       [35942.44734302],\n",
       "       [18793.50001897],\n",
       "       [22352.67736522],\n",
       "       [12096.81800586],\n",
       "       [22991.479589  ],\n",
       "       [15657.79994658],\n",
       "       [14584.1161417 ],\n",
       "       [11389.50508131],\n",
       "       [37657.94475817],\n",
       "       [38813.79840006],\n",
       "       [33168.47405398],\n",
       "       [17927.07575433],\n",
       "       [15974.00461816],\n",
       "       [28958.43766204],\n",
       "       [18023.41710355],\n",
       "       [28228.92571539],\n",
       "       [14280.08515937],\n",
       "       [31067.86936975],\n",
       "       [29451.07403111],\n",
       "       [31960.21248238],\n",
       "       [11433.72074094],\n",
       "       [16702.86005562],\n",
       "       [ 9798.5257458 ],\n",
       "       [30467.45814879],\n",
       "       [30041.90263046],\n",
       "       [28442.28278883],\n",
       "       [14550.58065802],\n",
       "       [12996.82019534],\n",
       "       [14869.61838801],\n",
       "       [12765.47430119],\n",
       "       [10763.32303573],\n",
       "       [19591.72967953],\n",
       "       [21159.72285834],\n",
       "       [14254.72350871],\n",
       "       [12081.40151352],\n",
       "       [ 7512.59837068],\n",
       "       [17585.85497384],\n",
       "       [64252.47052732],\n",
       "       [18777.02391979],\n",
       "       [22601.22931473],\n",
       "       [28625.61273931],\n",
       "       [21127.60369006],\n",
       "       [14024.78760644],\n",
       "       [14160.08552852],\n",
       "       [29049.42552465],\n",
       "       [41734.7244194 ],\n",
       "       [42746.02176241],\n",
       "       [15162.65411844],\n",
       "       [11905.49242152],\n",
       "       [24315.84891304],\n",
       "       [22145.435111  ],\n",
       "       [44394.93804596],\n",
       "       [19701.03328221],\n",
       "       [13561.4475998 ],\n",
       "       [37431.92962823],\n",
       "       [10907.28571056],\n",
       "       [22256.90501225],\n",
       "       [12687.17297263],\n",
       "       [ 9556.02483483],\n",
       "       [ 9781.28216203],\n",
       "       [42451.43354728],\n",
       "       [15015.96021542],\n",
       "       [20872.7515465 ],\n",
       "       [12753.42794295],\n",
       "       [13459.73711274],\n",
       "       [17973.34273571],\n",
       "       [15365.76701956],\n",
       "       [28799.83058949],\n",
       "       [12879.74652777],\n",
       "       [18147.30304088],\n",
       "       [20124.24885551],\n",
       "       [30119.84341856],\n",
       "       [18152.66155695],\n",
       "       [40740.11512965],\n",
       "       [23294.23862983],\n",
       "       [13060.07614386],\n",
       "       [37296.588678  ],\n",
       "       [ 8714.80187029],\n",
       "       [27837.18011052],\n",
       "       [11949.24905764],\n",
       "       [28385.8706045 ],\n",
       "       [35924.76038158],\n",
       "       [11878.84275465],\n",
       "       [20265.07267224],\n",
       "       [15795.08719443],\n",
       "       [17405.55646689],\n",
       "       [18821.0056609 ],\n",
       "       [20859.06250305],\n",
       "       [17537.43152634],\n",
       "       [20564.13531767],\n",
       "       [27290.75043911],\n",
       "       [22621.57129738],\n",
       "       [23992.51153344],\n",
       "       [38487.13575034],\n",
       "       [22553.5812834 ],\n",
       "       [13644.55721182],\n",
       "       [ 8825.067358  ],\n",
       "       [39888.47410622],\n",
       "       [17905.72122944],\n",
       "       [28943.4982844 ],\n",
       "       [22028.70333681],\n",
       "       [21855.44234593],\n",
       "       [36851.20379727],\n",
       "       [26422.37379654],\n",
       "       [30116.74056871],\n",
       "       [12160.0163097 ],\n",
       "       [24240.73952141],\n",
       "       [20972.92290901],\n",
       "       [18726.32260255],\n",
       "       [14098.88624117],\n",
       "       [31255.97308305],\n",
       "       [37743.58157692],\n",
       "       [37840.41615018],\n",
       "       [18814.19201133],\n",
       "       [18721.51278363],\n",
       "       [20900.14383849],\n",
       "       [11978.09486559],\n",
       "       [26838.37240727],\n",
       "       [20762.88203913],\n",
       "       [ 7351.76124117],\n",
       "       [13087.31317306],\n",
       "       [17859.76072007],\n",
       "       [31025.78860114],\n",
       "       [15701.96992679],\n",
       "       [22864.26241267],\n",
       "       [21125.19171287],\n",
       "       [24545.87971985],\n",
       "       [29088.23260316],\n",
       "       [31998.35928348],\n",
       "       [13063.62951488],\n",
       "       [13941.04388059],\n",
       "       [11894.12105518],\n",
       "       [21176.09847075],\n",
       "       [11885.91441659],\n",
       "       [11645.76397477]])"
      ]
     },
     "execution_count": 38,
     "metadata": {},
     "output_type": "execute_result"
    }
   ],
   "source": [
    "y_pred_ridge"
   ]
  },
  {
   "cell_type": "code",
   "execution_count": 39,
   "metadata": {},
   "outputs": [
    {
     "data": {
      "text/plain": [
       "1830.2364265268047"
      ]
     },
     "execution_count": 39,
     "metadata": {},
     "output_type": "execute_result"
    }
   ],
   "source": [
    "(mean_squared_error(y_test, y_pred_ridge))**0.5"
   ]
  },
  {
   "cell_type": "code",
   "execution_count": 40,
   "metadata": {},
   "outputs": [
    {
     "data": {
      "text/plain": [
       "0.9678857769105056"
      ]
     },
     "execution_count": 40,
     "metadata": {},
     "output_type": "execute_result"
    }
   ],
   "source": [
    "r2_score(y_test, y_pred_ridge)"
   ]
  },
  {
   "cell_type": "code",
   "execution_count": 41,
   "metadata": {},
   "outputs": [],
   "source": [
    "#Lasso regrerssion hataların mutlak degerini alarak yol izler"
   ]
  },
  {
   "cell_type": "code",
   "execution_count": 42,
   "metadata": {},
   "outputs": [],
   "source": [
    "L= Lasso()\n",
    "L.fit(x_train, y_train)\n",
    "y_pred_lasso = L.predict(x_test)"
   ]
  },
  {
   "cell_type": "code",
   "execution_count": 43,
   "metadata": {
    "collapsed": true
   },
   "outputs": [
    {
     "data": {
      "text/plain": [
       "array([12578.90817824, 20987.6582798 , 16382.40574686, 11076.81972427,\n",
       "       17805.24482828, 30299.22750803, 17998.81611986, 30610.12752471,\n",
       "       62183.94937511, 11554.83592352, 17650.15919418, 14459.61846875,\n",
       "       12702.22475924, 23054.34911496, 17683.54791241, 19517.70769781,\n",
       "       13407.97298427, 35370.152177  , 16807.65807345, 37760.81143091,\n",
       "       13824.42002396, 30091.73170582, 27748.82601251, 63289.80743384,\n",
       "       20310.50932839, 16328.55252884,  9621.88017615, 11507.8961953 ,\n",
       "       18439.25212238, 14099.40519178, 12856.61084552, 22238.85445063,\n",
       "       33164.34264281, 18343.97097677, 20706.49495928, 15406.25689367,\n",
       "       33005.81829659, 59735.82351605, 36842.24412143, 11174.03037879,\n",
       "       27278.8566203 , 18536.61401022, 11264.63693059, 26249.7999892 ,\n",
       "       16758.44413298, 27741.31733267, 17865.20701731, 11536.60849549,\n",
       "       10988.58062248, 18473.70691763, 44988.83098241, 18806.54134411,\n",
       "       12744.72242548, 13787.77666443, 21272.24742392, 13005.44155965,\n",
       "       11090.29126151, 13013.99456645, 26772.95713788, 21267.59966366,\n",
       "       18910.28543538, 35322.03176699, 13231.21247967, 19376.63139897,\n",
       "       19888.5260475 ,  6753.9766495 ,  9464.69618508, 33435.25650103,\n",
       "       38642.62032766, 13332.52922061, 13630.17155493, 37873.45693615,\n",
       "       20019.14424299, 10697.09935731, 13159.7156488 , 15712.34783353,\n",
       "        8591.84821803, 12206.52608964, 12981.86069825, 12693.46402834,\n",
       "       34753.06352726, 18241.27468528, 17122.25910577, 36711.24205333,\n",
       "       17714.9504766 , 19109.32894949, 20355.04970999, 16762.01152647,\n",
       "       18880.33141381, 25374.65267708, 29325.26835705, 13745.30675712,\n",
       "       29163.27442784, 15692.27301751, 22082.46311812, 16979.1742046 ,\n",
       "       18924.04474231, 21512.57534042, 29763.86818151,  9575.40812712,\n",
       "       12519.84899248, 11922.38790876,  9086.00168444, 17387.6644586 ,\n",
       "       14677.24803595, 29791.38784245, 21845.10339449, 36734.20268012,\n",
       "       18622.63369653, 21966.45284321, 12387.64654438, 22979.81990093,\n",
       "       15690.92953535, 14844.42689666, 11353.84700628, 37314.88133031,\n",
       "       39981.18593994, 33086.56580277, 17705.17266313, 16374.13185794,\n",
       "       28821.93355857, 18212.6955321 , 28048.7289995 , 14285.3046428 ,\n",
       "       31522.08891667, 29490.48706936, 32413.22787318, 11725.44408396,\n",
       "       16601.81455522,  9750.31511411, 30507.8638878 , 29859.25942598,\n",
       "       28483.057122  , 14555.43512624, 13428.11489943, 14825.33778808,\n",
       "       13169.91984626, 10988.21209929, 18643.1894734 , 20775.108147  ,\n",
       "       14284.26634497, 12146.51855237,  7344.18866165, 17323.83474589,\n",
       "       67411.02891201, 18673.17947684, 22667.101588  , 28711.14029287,\n",
       "       21064.37166925, 14146.68497626, 14162.59472776, 29134.38117179,\n",
       "       41386.15965567, 43908.10303527, 15090.81674228, 11913.91625576,\n",
       "       24302.40207897, 22141.99927506, 44864.70219751, 19606.93060633,\n",
       "       13964.83042059, 37024.60561267, 10872.27835766, 22372.52435057,\n",
       "       13091.72418   ,  9410.3337025 ,  9841.80389837, 43613.91234683,\n",
       "       15207.94929088, 20688.60517832, 13157.88974376, 13390.19770685,\n",
       "       17776.42181503, 15399.29068683, 28817.61609481, 12943.78625451,\n",
       "       17443.79531179, 19823.26073289, 29891.05548882, 17854.33395682,\n",
       "       40328.32694357, 23215.68270225, 13210.43667046, 36879.66348835,\n",
       "        8983.03286423, 27699.61195683, 12213.11538588, 28250.13914119,\n",
       "       36285.89816135, 11842.52435183, 20097.08316454, 16063.82011863,\n",
       "       17644.95482822, 18754.31698017, 20674.9346073 , 17298.94918093,\n",
       "       20380.74997115, 27310.57234508, 21668.9425268 , 23969.69792417,\n",
       "       38142.95338583, 22365.07214951, 13674.92342584,  8597.58632277,\n",
       "       39477.83515157, 17616.1080193 , 28716.29775212, 21642.91599563,\n",
       "       21669.96990359, 36509.22901127, 26219.20787425, 29887.95682606,\n",
       "       12140.93533681, 24217.59094542, 20971.06929825, 18622.33628077,\n",
       "       14387.01312528, 31113.79150161, 37326.05320086, 39009.11720296,\n",
       "       17866.70103921, 18017.23019769, 20598.10869856, 12043.3513097 ,\n",
       "       26811.71850301, 20831.23503656,  7126.26833198, 13094.14222087,\n",
       "       17784.28378266, 31065.44091132, 15735.03991119, 23044.50676967,\n",
       "       20822.8528862 , 24345.24599822, 28906.87631128, 32451.32319777,\n",
       "       13353.15340727, 13870.85498406, 12299.74243198, 20989.44815589,\n",
       "       12149.86621061, 11609.76009586])"
      ]
     },
     "execution_count": 43,
     "metadata": {},
     "output_type": "execute_result"
    }
   ],
   "source": [
    "y_pred_lasso"
   ]
  },
  {
   "cell_type": "code",
   "execution_count": 44,
   "metadata": {},
   "outputs": [
    {
     "data": {
      "text/plain": [
       "1803.7639548044071"
      ]
     },
     "execution_count": 44,
     "metadata": {},
     "output_type": "execute_result"
    }
   ],
   "source": [
    "(mean_squared_error(y_test, y_pred_lasso))**0.5"
   ]
  },
  {
   "cell_type": "code",
   "execution_count": 45,
   "metadata": {},
   "outputs": [
    {
     "data": {
      "text/plain": [
       "0.9688080562761546"
      ]
     },
     "execution_count": 45,
     "metadata": {},
     "output_type": "execute_result"
    }
   ],
   "source": [
    "r2_score(y_test,  y_pred_lasso)"
   ]
  },
  {
   "cell_type": "code",
   "execution_count": 46,
   "metadata": {},
   "outputs": [],
   "source": [
    "#ElasticNet lasso ve ridge güzel yanlarını kullanır ve ortak bir model oluşturup tahminleme par\n",
    "from sklearn.linear_model import ElasticNet\n",
    "E = ElasticNet(l1_ratio=.8)"
   ]
  },
  {
   "cell_type": "code",
   "execution_count": 47,
   "metadata": {},
   "outputs": [],
   "source": [
    "E.fit(x_train,y_train)\n",
    "y_pred_elastic = E.predict(x_test)"
   ]
  },
  {
   "cell_type": "code",
   "execution_count": 48,
   "metadata": {},
   "outputs": [
    {
     "data": {
      "text/plain": [
       "5438.645223343262"
      ]
     },
     "execution_count": 48,
     "metadata": {},
     "output_type": "execute_result"
    }
   ],
   "source": [
    "(mean_squared_error(y_test, y_pred_elastic))**0.5"
   ]
  },
  {
   "cell_type": "code",
   "execution_count": 49,
   "metadata": {},
   "outputs": [
    {
     "data": {
      "text/plain": [
       "0.7164272533220172"
      ]
     },
     "execution_count": 49,
     "metadata": {},
     "output_type": "execute_result"
    }
   ],
   "source": [
    "r2_score(y_test, y_pred_elastic)"
   ]
  },
  {
   "cell_type": "markdown",
   "metadata": {},
   "source": [
    "## linear olmayan yöntemler"
   ]
  },
  {
   "cell_type": "code",
   "execution_count": 50,
   "metadata": {
    "scrolled": true
   },
   "outputs": [],
   "source": [
    "#ExtraTreeRegressor\n",
    "from sklearn.tree import ExtraTreeRegressor\n",
    "ETR = ExtraTreeRegressor()\n",
    "ETR.fit(x_train,y_train)\n",
    "y_pred_etr = ETR.predict(x_test)"
   ]
  },
  {
   "cell_type": "code",
   "execution_count": 51,
   "metadata": {},
   "outputs": [
    {
     "data": {
      "text/plain": [
       "1378.1963303603773"
      ]
     },
     "execution_count": 51,
     "metadata": {},
     "output_type": "execute_result"
    }
   ],
   "source": [
    "(mean_squared_error(y_test, y_pred_etr))**0.5"
   ]
  },
  {
   "cell_type": "code",
   "execution_count": 52,
   "metadata": {},
   "outputs": [
    {
     "data": {
      "text/plain": [
       "0.9817901986133917"
      ]
     },
     "execution_count": 52,
     "metadata": {},
     "output_type": "execute_result"
    }
   ],
   "source": [
    "r2_score(y_test, y_pred_etr)"
   ]
  },
  {
   "cell_type": "code",
   "execution_count": 53,
   "metadata": {},
   "outputs": [],
   "source": [
    "import warnings \n",
    "warnings.filterwarnings('ignore')"
   ]
  },
  {
   "cell_type": "code",
   "execution_count": 56,
   "metadata": {},
   "outputs": [],
   "source": [
    "from sklearn.ensemble import GradientBoostingRegressor#3500 satır 800 sütun ,bin altı satır veya stunda bu iyi başarı sağlamış hocaya,üstü olsa deeplearningde daha başarılı olır\n",
    "GBR = GradientBoostingRegressor()\n",
    "GBR.fit(x_train,y_train)\n",
    "y_pred_gbr =GBR.predict(x_test)"
   ]
  },
  {
   "cell_type": "code",
   "execution_count": 57,
   "metadata": {},
   "outputs": [
    {
     "data": {
      "text/plain": [
       "1513.380110021315"
      ]
     },
     "execution_count": 57,
     "metadata": {},
     "output_type": "execute_result"
    }
   ],
   "source": [
    "(mean_squared_error(y_test, y_pred_gbr))**0.5"
   ]
  },
  {
   "cell_type": "code",
   "execution_count": 58,
   "metadata": {},
   "outputs": [
    {
     "data": {
      "text/plain": [
       "0.978042692991179"
      ]
     },
     "execution_count": 58,
     "metadata": {},
     "output_type": "execute_result"
    }
   ],
   "source": [
    "r2_score(y_test, y_pred_gbr)"
   ]
  },
  {
   "cell_type": "code",
   "execution_count": 59,
   "metadata": {},
   "outputs": [],
   "source": [
    "from sklearn.neighbors import KNeighborsRegressor\n",
    "est = KNeighborsRegressor()\n",
    "model=est.fit(x_train,y_train)#model= deyip de yapabiliriz\n"
   ]
  },
  {
   "cell_type": "code",
   "execution_count": 60,
   "metadata": {},
   "outputs": [],
   "source": [
    "y_pred_knb = model.predict(x_test)"
   ]
  },
  {
   "cell_type": "code",
   "execution_count": 61,
   "metadata": {},
   "outputs": [
    {
     "data": {
      "text/plain": [
       "11126.73586509952"
      ]
     },
     "execution_count": 61,
     "metadata": {},
     "output_type": "execute_result"
    }
   ],
   "source": [
    "(mean_squared_error(y_test, y_pred_knb))**0.5"
   ]
  },
  {
   "cell_type": "code",
   "execution_count": 64,
   "metadata": {},
   "outputs": [
    {
     "data": {
      "text/plain": [
       "-0.18691218308401614"
      ]
     },
     "execution_count": 64,
     "metadata": {},
     "output_type": "execute_result"
    }
   ],
   "source": [
    "r2_score(y_test, y_pred_knb)"
   ]
  },
  {
   "cell_type": "code",
   "execution_count": null,
   "metadata": {},
   "outputs": [],
   "source": [
    "#model.save(\"arabatrahmin.h\") #modelimizi kadeder\n",
    "#model.load()"
   ]
  }
 ],
 "metadata": {
  "kernelspec": {
   "display_name": "Python 3 (ipykernel)",
   "language": "python",
   "name": "python3"
  },
  "language_info": {
   "codemirror_mode": {
    "name": "ipython",
    "version": 3
   },
   "file_extension": ".py",
   "mimetype": "text/x-python",
   "name": "python",
   "nbconvert_exporter": "python",
   "pygments_lexer": "ipython3",
   "version": "3.8.13"
  }
 },
 "nbformat": 4,
 "nbformat_minor": 4
}
